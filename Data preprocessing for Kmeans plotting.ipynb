{
 "cells": [
  {
   "cell_type": "code",
   "execution_count": 1,
   "metadata": {
    "collapsed": true
   },
   "outputs": [],
   "source": [
    "# imports\n",
    "import json\n",
    "import pandas as pd\n",
    "from sklearn.cluster import k_means"
   ]
  },
  {
   "cell_type": "code",
   "execution_count": 2,
   "metadata": {
    "collapsed": false
   },
   "outputs": [],
   "source": [
    "# load the data\n",
    "df = pd.read_csv('../data/SFPD_Incidents_-_from_1_January_2003.csv')"
   ]
  },
  {
   "cell_type": "code",
   "execution_count": 3,
   "metadata": {
    "collapsed": true
   },
   "outputs": [],
   "source": [
    "# filter the data\n",
    "pros_data = df[df.Category == \"PROSTITUTION\"]\n",
    "pros_data = pros_data[[\"X\", \"Y\"]]\n",
    "pros_data = pros_data.rename(columns={\"X\": \"lon\", \"Y\": \"lat\"})\n",
    "\n",
    "# remove row with wrong lat value\n",
    "pros_data = pros_data[pros_data.lat != 90.0]"
   ]
  },
  {
   "cell_type": "code",
   "execution_count": 4,
   "metadata": {
    "collapsed": false
   },
   "outputs": [],
   "source": [
    "# picking the rigth input data\n",
    "X = pros_data[[\"lon\",\"lat\"]]\n",
    "\n",
    "# list for holding the labels for the different ks\n",
    "all_data = X.copy()\n",
    "all_labels = []\n",
    "centroids_df = pd.DataFrame()\n",
    "all_centroids = {}\n",
    "\n",
    "# run kmeans 5 times with k = 2..6\n",
    "for k in xrange(2,7):\n",
    "    centroids, labels, inertia = k_means(X, n_clusters=k) # inertia is the sum of squared errors for the model\n",
    "    all_data[\"k{}\".format(k)] = labels\n",
    "    all_labels.append(labels)\n",
    "    all_centroids[\"k{}\".format(k)] = [(x,y) for x,y in centroids]"
   ]
  },
  {
   "cell_type": "code",
   "execution_count": 5,
   "metadata": {
    "collapsed": true
   },
   "outputs": [],
   "source": [
    "# save the geodata as csv\n",
    "all_data.to_csv(\"geodata_with_ks.csv\", index=False)\n",
    "\n",
    "# and the centroids as json\n",
    "with open('centroids.json', 'w') as file:\n",
    "    json.dump(all_centroids, file)"
   ]
  }
 ],
 "metadata": {
  "kernelspec": {
   "display_name": "Python 2",
   "language": "python",
   "name": "python2"
  },
  "language_info": {
   "codemirror_mode": {
    "name": "ipython",
    "version": 2
   },
   "file_extension": ".py",
   "mimetype": "text/x-python",
   "name": "python",
   "nbconvert_exporter": "python",
   "pygments_lexer": "ipython2",
   "version": "2.7.12"
  }
 },
 "nbformat": 4,
 "nbformat_minor": 0
}
